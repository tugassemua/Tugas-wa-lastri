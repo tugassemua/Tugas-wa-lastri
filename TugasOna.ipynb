{
 "cells": [
  {
   "cell_type": "code",
   "execution_count": 1,
   "id": "082c191f-65e2-49c0-b6ea-e6fe43f891df",
   "metadata": {},
   "outputs": [],
   "source": [
    "import numpy as np\n",
    "import cv2\n",
    "\n",
    "# Ukuran bendera\n",
    "height = 200\n",
    "width = 350\n",
    "\n",
    "# Warna dalam format BGR\n",
    "dark_red = (0, 0, 139)   # Merah gelap\n",
    "white = (255, 255, 255)   # Putih\n",
    "\n",
    "# Membuat latar belakang putih\n",
    "flag = np.zeros((height, width, 3), dtype=np.uint8)\n",
    "\n",
    "# Tinggi garis\n",
    "stripe_height = height // 3\n",
    "\n",
    "# Menggambar dua garis merah besar\n",
    "flag[:stripe_height, :] = dark_red   # Merah atas\n",
    "flag[stripe_height*2:, :] = dark_red  # Merah bawah\n",
    "\n",
    "# Menggambar garis putih tipis di tengah\n",
    "flag[stripe_height:stripe_height*2, :] = white  # Garis putih tengah\n",
    "\n",
    "# Menampilkan bendera Latvia\n",
    "cv2.imshow(\"Bendera Latvia\", flag)\n",
    "cv2.waitKey(0)\n",
    "cv2.destroyAllWindows()\n"
   ]
  },
  {
   "cell_type": "code",
   "execution_count": null,
   "id": "bb4f8698-f2ae-4237-9c57-808afa4d52d2",
   "metadata": {},
   "outputs": [],
   "source": []
  }
 ],
 "metadata": {
  "kernelspec": {
   "display_name": "Python 3 (ipykernel)",
   "language": "python",
   "name": "python3"
  },
  "language_info": {
   "codemirror_mode": {
    "name": "ipython",
    "version": 3
   },
   "file_extension": ".py",
   "mimetype": "text/x-python",
   "name": "python",
   "nbconvert_exporter": "python",
   "pygments_lexer": "ipython3",
   "version": "3.10.11"
  }
 },
 "nbformat": 4,
 "nbformat_minor": 5
}
